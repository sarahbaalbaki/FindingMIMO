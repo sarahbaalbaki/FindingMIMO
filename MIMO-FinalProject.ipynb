{
 "cells": [
  {
   "cell_type": "markdown",
   "metadata": {},
   "source": [
    "# Neural Networks- Final Project \n",
    "## Finding MIMO\n",
    "\n",
    "### Sarah Baalbaki, Tanxin Qiao, Jackie Vo"
   ]
  },
  {
   "cell_type": "code",
   "execution_count": null,
   "metadata": {},
   "outputs": [],
   "source": [
    "from google.colab import drive\n",
    "drive.mount('/content/drive')"
   ]
  },
  {
   "cell_type": "code",
   "execution_count": null,
   "metadata": {},
   "outputs": [],
   "source": [
    "! pip install tape-proteins==0.5\n",
    "! pip install biopython==1.80\n",
    "! pip install torchmetrics\n",
    "! pip install lightning"
   ]
  },
  {
   "cell_type": "code",
   "execution_count": null,
   "metadata": {},
   "outputs": [],
   "source": [
    "# data_path = '/content/drive/MyDrive/NN/Project/MIMO_data'\n",
    "# data_path = '/content/drive/MyDrive/CMU/Project/MIMO_data'\n",
    "data_path= \"/content/drive/MyDrive/MIMO_data\""
   ]
  },
  {
   "cell_type": "code",
   "execution_count": null,
   "metadata": {},
   "outputs": [],
   "source": [
    "import torch\n",
    "import torchmetrics\n",
    "from torch import nn\n",
    "from torch.optim import Adam\n",
    "from torch.optim.lr_scheduler import StepLR\n",
    "from torch.optim.lr_scheduler import ReduceLROnPlateau\n",
    "from transformers import AutoTokenizer, AutoModelForMaskedLM\n",
    "from transformers import AutoTokenizer, EsmForMaskedLM\n",
    "from transformers import AutoTokenizer, EsmModel"
   ]
  },
  {
   "cell_type": "markdown",
   "metadata": {},
   "source": [
    "## Code to load data "
   ]
  },
  {
   "cell_type": "code",
   "execution_count": null,
   "metadata": {},
   "outputs": [],
   "source": [
    "import pandas as pd\n",
    "import numpy as np\n",
    "from tape.datasets import LMDBDataset\n",
    "\n",
    "GFP_AMINO_ACID_VOCABULARY = [\"A\", \"C\", \"D\", \"E\", \"F\", \"G\", \"H\", \"I\", \"K\", \"L\", \"M\", \"N\", \"P\", \"Q\", \"R\", \"S\", \"T\", \"V\", \"W\", \"Y\", \"-\"]\n",
    "GFP_ALPHABET = {aa:i for i, aa in enumerate(GFP_AMINO_ACID_VOCABULARY)}\n",
    "\n",
    "def gfp_dataset_to_df(in_name):\n",
    "    \"\"\"Get the GFP dataset as a dataframe\"\"\"\n",
    "    dataset = LMDBDataset(in_name)\n",
    "    df = pd.DataFrame(list(dataset)[:])\n",
    "    df[\"log_fluorescence\"] = df.log_fluorescence.apply(lambda x: x[0])\n",
    "    return df\n",
    "\n",
    "def get_gfp_dfs(path):\n",
    "    \"\"\"Get train, val, and test dataframes for the gfp dataset\"\"\"\n",
    "    train_df = gfp_dataset_to_df(f\"{path}/mimo_train.lmdb\")\n",
    "    val_df = gfp_dataset_to_df(f\"{path}/mimo_val.lmdb\")\n",
    "    test_df = gfp_dataset_to_df(f\"{path}/mimo_test.lmdb\")\n",
    "    return train_df, val_df, test_df\n",
    "\n",
    "def get_gfp_dfs_shuffled(path):\n",
    "    \"\"\"Get train, val, and test dataframes for the gfp dataset\"\"\"\n",
    "    train_df = gfp_dataset_to_df(f\"{path}/mimo_train.lmdb\")\n",
    "    val_df = gfp_dataset_to_df(f\"{path}/mimo_val.lmdb\")\n",
    "    test_df = gfp_dataset_to_df(f\"{path}/mimo_test.lmdb\")\n",
    "    all_data = pd.concat([train_df, val_df, test_df], ignore_index=True)\n",
    "    all_data_shuffled = all_data.sample(frac=1, random_state=42).reset_index(drop=True)\n",
    "    train_df, val_test_df = train_test_split(all_data_shuffled, test_size=0.2, random_state=42)\n",
    "    val_df, test_df = train_test_split(val_test_df, test_size=0.5, random_state=42)\n",
    "    return train_df, val_df, test_df"
   ]
  },
  {
   "cell_type": "markdown",
   "metadata": {},
   "source": [
    "## Explore the Data "
   ]
  },
  {
   "cell_type": "code",
   "execution_count": null,
   "metadata": {},
   "outputs": [],
   "source": [
    "import pandas as pd\n",
    "from matplotlib import pyplot as plt\n",
    "import numpy as np\n",
    "\n",
    "train_df, val_df, test_df = get_gfp_dfs(data_path)\n",
    "print('Training set size:', len(train_df))\n",
    "print('Validation set size:', len(val_df))\n",
    "print('Test set size:',len(test_df))\n",
    "train_df.head()"
   ]
  },
  {
   "cell_type": "code",
   "execution_count": null,
   "metadata": {},
   "outputs": [],
   "source": []
  },
  {
   "cell_type": "code",
   "execution_count": null,
   "metadata": {},
   "outputs": [],
   "source": []
  },
  {
   "cell_type": "markdown",
   "metadata": {},
   "source": [
    "## Load the Data- dataloaders"
   ]
  },
  {
   "cell_type": "code",
   "execution_count": null,
   "metadata": {},
   "outputs": [],
   "source": [
    "from torch.utils.data import Dataset\n",
    "from lightning import LightningDataModule\n",
    "from torch.utils.data import DataLoader\n",
    "\n",
    "class GFPDatamodule(LightningDataModule):\n",
    "    def __init__(self, root_path, batch_size):\n",
    "        super().__init__()\n",
    "        self.batch_size = batch_size\n",
    "        self.root = root_path\n",
    "        self.train_df, self.val_df, self.test_df = get_gfp_dfs(root_path)\n",
    "\n",
    "    def train_dataloader(self):\n",
    "        sequences = self.train_df['primary'].to_list()\n",
    "        signal = self.train_df['log_fluorescence'].to_list()\n",
    "        data = list(zip(sequences, signal))\n",
    "        return DataLoader(data, batch_size=self.batch_size, shuffle=True)\n",
    "\n",
    "    def val_dataloader(self):\n",
    "        sequences = self.val_df['primary'].to_list()\n",
    "        signal = self.val_df['log_fluorescence'].to_list()\n",
    "        data = list(zip(sequences, signal))\n",
    "        return DataLoader(data, batch_size=self.batch_size, shuffle=False)\n",
    "\n",
    "    def test_dataloader(self):\n",
    "        sequences = self.test_df['primary'].to_list()\n",
    "        data = list(sequences)\n",
    "        return DataLoader(data, batch_size=self.batch_size, shuffle=False)\n",
    "\n",
    "    def predict_dataloader(self):\n",
    "        #, with_target=False\n",
    "        sequences = self.test_df['primary'].to_list()\n",
    "        data = list(sequences)\n",
    "        return DataLoader(data, batch_size=self.batch_size, shuffle=False)"
   ]
  },
  {
   "cell_type": "code",
   "execution_count": null,
   "metadata": {},
   "outputs": [],
   "source": [
    "datamodule = GFPDatamodule(data_path, 32)"
   ]
  },
  {
   "cell_type": "markdown",
   "metadata": {},
   "source": [
    "## 1- Shuffled Dataset "
   ]
  },
  {
   "cell_type": "markdown",
   "metadata": {},
   "source": [
    "### GFPRegressor for Shuffled Dataset"
   ]
  },
  {
   "cell_type": "code",
   "execution_count": null,
   "metadata": {},
   "outputs": [],
   "source": [
    "from transformers import AutoTokenizer, EsmModel\n",
    "import torch\n",
    "import torch.nn as nn\n",
    "import torchmetrics\n",
    "from torch.optim import Adam\n",
    "from lightning import LightningModule\n",
    "\n",
    "class GFPRegressor(LightningModule):\n",
    "    def __init__(self):\n",
    "        super().__init__()\n",
    "        self.tokenizer = AutoTokenizer.from_pretrained(\"facebook/esm2_t6_8M_UR50D\")\n",
    "        self.encoder = EsmModel.from_pretrained(\"facebook/esm2_t6_8M_UR50D\")\n",
    "        dmodel = self.encoder.config.hidden_size\n",
    "        self.model = nn.Linear(dmodel, 1)\n",
    "\n",
    "        # self.criterion = nn.CrossEntropyLoss()\n",
    "        self.criterion = nn.MSELoss()\n",
    "        self.val_rmse = torchmetrics.MeanSquaredError()\n",
    "\n",
    "        self.train_losses = []\n",
    "        self.val_losses = []\n",
    "\n",
    "        self.training_step_outputs = []\n",
    "        self.validation_step_outputs = []\n",
    "\n",
    "    def forward(self, x):\n",
    "            inputs = self.tokenizer(x, truncation= True, padding= True, return_tensors=\"pt\")\n",
    "            inputs = {key: val.to(self.device) for key, val in inputs.items()}\n",
    "            with torch.no_grad():\n",
    "                outputs = self.encoder(**inputs)\n",
    "            pooled_output = outputs.last_hidden_state.mean(dim=1)\n",
    "            logits = self.model(pooled_output)\n",
    "            return logits\n",
    "\n",
    "    def training_step(self, batch, batch_idx):\n",
    "        x, y = batch\n",
    "        logits = self.forward(x)\n",
    "        logits_sq= logits.squeeze(-1)\n",
    "        # print(\"Training - Logits shape:\", logits.shape)\n",
    "        # print(\"Training - Target shape:\", y.shape)\n",
    "        # print(\"logits.squeeze()\", logits.squeeze())\n",
    "        preds= logits_sq.squeeze()\n",
    "        # print(preds, preds.shape)\n",
    "        loss = self.criterion(preds, y.float())  # Squeeze to remove extra dimension\n",
    "        self.log('train_loss', loss, prog_bar= True, on_step=False, on_epoch=True, logger=True,)\n",
    "        # self.training_step_outputs.append(logits_sq)\n",
    "        return loss\n",
    "\n",
    "    def validation_step(self, batch, batch_idx):\n",
    "      x, y = batch\n",
    "      logits = self.forward(x)\n",
    "      logits = logits.squeeze(-1)  # Squeeze the logits tensor to match the shape of y\n",
    "      # print(\"Validation - Logits shape:\", logits.shape)\n",
    "      # print(\"Validation - Target shape:\", y.shape)\n",
    "      preds= logits.squeeze()\n",
    "      loss = self.criterion(preds, y.float())  # Use unsqueezed logits tensor\n",
    "      self.log('val_loss', loss, prog_bar=True, on_step=False, on_epoch=True, logger=True,)\n",
    "      self.val_rmse(preds, y.float())  # Calculate RMSE\n",
    "      # self.validation_step_outputs.append(logits)\n",
    "      return loss\n",
    "\n",
    "    def configure_optimizers(self):\n",
    "        optimizer = Adam(self.parameters(), lr=1e-1)\n",
    "        return optimizer"
   ]
  },
  {
   "cell_type": "markdown",
   "metadata": {},
   "source": [
    "### Train the model "
   ]
  },
  {
   "cell_type": "code",
   "execution_count": null,
   "metadata": {},
   "outputs": [],
   "source": [
    "from lightning import Trainer\n",
    "from lightning.pytorch.callbacks import ModelCheckpoint\n",
    "\n",
    "datamodule = GFPDatamodule(data_path, batch_size=32)\n",
    "model = GFPRegressor()\n",
    "\n",
    "trainer = Trainer(max_epochs=50)\n",
    "trainer.fit(model=model, datamodule=datamodule)"
   ]
  },
  {
   "cell_type": "markdown",
   "metadata": {},
   "source": [
    "### Obtain metrics and plots"
   ]
  },
  {
   "cell_type": "code",
   "execution_count": null,
   "metadata": {},
   "outputs": [],
   "source": [
    "trainer.logged_metrics"
   ]
  },
  {
   "cell_type": "code",
   "execution_count": null,
   "metadata": {},
   "outputs": [],
   "source": [
    "logged_data = trainer.callback_metrics\n",
    "print(logged_data.keys())"
   ]
  },
  {
   "cell_type": "code",
   "execution_count": null,
   "metadata": {},
   "outputs": [],
   "source": [
    "train_loss = logged_data['train_loss']\n",
    "print(train_loss.item())\n",
    "\n",
    "val_loss = logged_data['val_loss']\n",
    "print(val_loss.item())"
   ]
  },
  {
   "cell_type": "code",
   "execution_count": null,
   "metadata": {},
   "outputs": [],
   "source": [
    "%load_ext tensorboard"
   ]
  },
  {
   "cell_type": "code",
   "execution_count": null,
   "metadata": {},
   "outputs": [],
   "source": [
    "%tensorboard --logdir /content/lightning_logs/version_0"
   ]
  },
  {
   "cell_type": "markdown",
   "metadata": {},
   "source": [
    "### Evaluate the model "
   ]
  },
  {
   "cell_type": "code",
   "execution_count": null,
   "metadata": {},
   "outputs": [],
   "source": [
    "model.eval()\n",
    "predictions = trainer.predict(model, datamodule)"
   ]
  },
  {
   "cell_type": "code",
   "execution_count": null,
   "metadata": {},
   "outputs": [],
   "source": [
    "preds= []\n",
    "for p in predictions:\n",
    "  for el in p:\n",
    "    preds.append(el.item())\n",
    "\n",
    "print(len(preds))\n",
    "print(preds)"
   ]
  },
  {
   "cell_type": "code",
   "execution_count": null,
   "metadata": {},
   "outputs": [],
   "source": [
    "from sklearn.metrics import mean_squared_error\n",
    "\n",
    "rmse = np.sqrt(mean_squared_error(true_vals, preds))\n",
    "print(\"Root Mean Squared Error:\", rmse)\n",
    "\n",
    "mse = mean_squared_error(true_vals, preds)\n",
    "print(\"Mean Squared Error:\", mse)"
   ]
  },
  {
   "cell_type": "markdown",
   "metadata": {},
   "source": [
    "## 2- Unbalanced Dataset"
   ]
  },
  {
   "cell_type": "markdown",
   "metadata": {},
   "source": [
    "### Helper functions for saving model checkpoints"
   ]
  },
  {
   "cell_type": "code",
   "execution_count": null,
   "metadata": {},
   "outputs": [],
   "source": [
    "def save_chkpt(ckpt_folder, model, epoch, ver):\n",
    "    \"\"\"Save a training checkpoint\n",
    "    Args:\n",
    "        model_path (str): the path to save the model to\n",
    "        model (nn.Module): the model to save\n",
    "        optimizer (torch.optim.Optimizer): the optimizer to save\n",
    "        epoch (int): the current epoch\n",
    "        batch (int): the current batch in the epoch\n",
    "        loss_domain (list of int): a list of the shared domain for val and training\n",
    "            losses\n",
    "        val_losses (list of float): a list containing the validation losses\n",
    "        train_losses (list of float): a list containing the training losses\n",
    "    \"\"\"\n",
    "\n",
    "    path = f'{ckpt_folder}/model_v{ver}_epoch{epoch}'\n",
    "    torch.save(model.state_dict(), path)"
   ]
  },
  {
   "cell_type": "code",
   "execution_count": null,
   "metadata": {},
   "outputs": [],
   "source": [
    "def GetVersion(path):\n",
    "    all_dirs = os.listdir(path)\n",
    "    if len(all_dirs) == 0:\n",
    "      return 1\n",
    "    all_vers = [int(x.split('_')[1].split('v')[-1]) for x in all_dirs if 'model_v' in x] #has v#\n",
    "    curr_ver = np.max(all_vers) + 1\n",
    "    return curr_ver"
   ]
  },
  {
   "cell_type": "markdown",
   "metadata": {},
   "source": [
    "### Modified data loading"
   ]
  },
  {
   "cell_type": "code",
   "execution_count": null,
   "metadata": {},
   "outputs": [],
   "source": [
    "class GFPDataset(Dataset):\n",
    "    def __init__(self, root_path, part, input_name, label_name):\n",
    "        super().__init__()\n",
    "        self.root = root_path\n",
    "        df = get_gfp_dfs(root_path, part=part)\n",
    "        self.input = df[input_name].to_numpy()\n",
    "        self.label = df[label_name].to_numpy()\n",
    "\n",
    "    def __len__(self):\n",
    "        return len(self.input)\n",
    "\n",
    "    def __getitem__(self, index):\n",
    "        return self.input[index], self.label[index]"
   ]
  },
  {
   "cell_type": "markdown",
   "metadata": {},
   "source": [
    "### SimpleGFPRegressor"
   ]
  },
  {
   "cell_type": "code",
   "execution_count": null,
   "metadata": {},
   "outputs": [],
   "source": [
    "class SimpleGFPModel(nn.Module):\n",
    "    def __init__(self, in_dim):\n",
    "        super(SimpleGFPModel, self).__init__()\n",
    "        self.conv1 = nn.Conv1d(1, 512, kernel_size=3)\n",
    "        self.bn1 = nn.BatchNorm1d(512)\n",
    "        self.relu1 = nn.ReLU()\n",
    "        self.conv2 = nn.Conv1d(512, 256, kernel_size=3)\n",
    "        self.bn2 = nn.BatchNorm1d(256)\n",
    "        self.relu2 = nn.ReLU()\n",
    "        dim1 = (in_dim - 3)+ 1\n",
    "        dim2 = (dim1 - 3)+ 1\n",
    "        self.dense1 = nn.Linear(256*dim2, 1024)\n",
    "        self.bn3 = nn.BatchNorm1d(1024)\n",
    "        self.relu3 = nn.ReLU()\n",
    "        self.fc = nn.Linear(1024, 1)\n",
    "\n",
    "    def forward(self, x):\n",
    "        out = self.conv1(x)\n",
    "        out = self.bn1(out)\n",
    "        out = self.relu1(out)\n",
    "        out = self.conv2(out)\n",
    "        out = self.bn2(out)\n",
    "        out = self.relu2(out)\n",
    "        out = out.reshape(x.shape[0], -1)\n",
    "        out = self.dense1(out)\n",
    "        out = self.bn3(out)\n",
    "        out = self.relu3(out)\n",
    "        out = self.fc(out)\n",
    "        out = out.view(-1)\n",
    "        return out\n",
    "\n",
    "class GFPRegressor(nn.Module):\n",
    "    def __init__(self, device):\n",
    "          super(GFPRegressor, self).__init__()\n",
    "          self.device = device\n",
    "          self.tokenizer = AutoTokenizer.from_pretrained(\"facebook/esm2_t6_8M_UR50D\")\n",
    "          self.embedder= EsmModel.from_pretrained(\"facebook/esm2_t6_8M_UR50D\")\n",
    "          self.model = SimpleGFPModel(in_dim=self.embedder.config.hidden_size)\n",
    "          self.criterion = nn.MSELoss()\n",
    "\n",
    "    def forward(self, x):\n",
    "        lengths = torch.tensor([len(i) for i in x]).to(self.device)\n",
    "        ids= self.tokenizer(x, padding=\"longest\", return_tensors=\"pt\")\n",
    "        input_ids = torch.tensor(ids['input_ids']).clone().detach().to(self.device)\n",
    "        attention_mask = torch.tensor(ids['attention_mask']).clone().detach().to(self.device)\n",
    "        with torch.no_grad():\n",
    "            embeddings = self.embedder(input_ids=input_ids,\n",
    "                                   attention_mask=attention_mask).last_hidden_state\n",
    "        embeddings = embeddings.sum(dim=1)/lengths.view(-1, 1)\n",
    "        embeddings = torch.unsqueeze(embeddings, 1)\n",
    "        preds = self.model(embeddings)\n",
    "        return preds"
   ]
  },
  {
   "cell_type": "markdown",
   "metadata": {},
   "source": [
    "### Custom train and test functions"
   ]
  },
  {
   "cell_type": "code",
   "execution_count": null,
   "metadata": {},
   "outputs": [],
   "source": [
    "def train(model, train_dataloader, val_dataloader, optimizer, num_epochs, device, save_path = None):\n",
    "  model.to(device)\n",
    "\n",
    "  all_tloss = []\n",
    "  all_vloss = []\n",
    "\n",
    "  ver = GetVersion(save_path)\n",
    "\n",
    "  for epoch in range(num_epochs):\n",
    "    model.train()\n",
    "    train_loss = 0.\n",
    "\n",
    "    progress_bar = tqdm(total=int(len(train_dataloader)), dynamic_ncols=True, leave=True, position=0, desc=f'Epoch {epoch+1}')\n",
    "\n",
    "    for inputs, labels in train_dataloader:\n",
    "        inputs, labels = inputs, labels\n",
    "        labels = torch.tensor(labels).clone().detach().to(device)\n",
    "\n",
    "        optimizer.zero_grad()\n",
    "        outputs = model(inputs)\n",
    "        curr_loss = model.criterion(outputs, labels)\n",
    "        curr_loss.backward()\n",
    "\n",
    "        optimizer.step()\n",
    "\n",
    "        train_loss += curr_loss * len(inputs) /len(train_dataloader.dataset)\n",
    "\n",
    "        progress_bar.set_postfix(train_loss=\"{:.04f}\".format(train_loss))\n",
    "        progress_bar.update()\n",
    "\n",
    "    all_tloss.append(train_loss)\n",
    "\n",
    "    # Validation phase\n",
    "    model.eval()\n",
    "    val_loss = 0.0\n",
    "\n",
    "    with torch.no_grad():\n",
    "        for inputs, labels in val_dataloader:\n",
    "            labels = torch.tensor(labels).clone().detach().to(device)\n",
    "\n",
    "            outputs = model(inputs)\n",
    "            loss = model.criterion(outputs, labels)\n",
    "            val_loss += loss * len(inputs) / len(val_dataloader.dataset)\n",
    "\n",
    "            progress_bar.set_postfix(train_loss=\"{:.04f}\".format(train_loss), val_train=\"{:.04f}\".format(val_loss))\n",
    "            progress_bar.update()\n",
    "\n",
    "    all_vloss.append(val_loss)\n",
    "    progress_bar.close()\n",
    "\n",
    "    if save_path != None:\n",
    "      save_chkpt(save_path, model, epoch, ver)\n",
    "\n",
    "  print('Training finished!')\n",
    "\n",
    "  return all_tloss, all_vloss"
   ]
  },
  {
   "cell_type": "code",
   "execution_count": null,
   "metadata": {},
   "outputs": [],
   "source": [
    "def test(model, test_dataloader, optimizer, device):\n",
    "\n",
    "      model.eval()\n",
    "\n",
    "      preds = []\n",
    "\n",
    "      testing_bar = tqdm(total=int(len(test_dataloader)), dynamic_ncols=True, leave=True, position=0, desc=f'Testing')\n",
    "      test_loss = 0.0\n",
    "\n",
    "      with torch.no_grad():\n",
    "          for i, (inputs, labels) in enumerate(test_dataloader):\n",
    "              labels = torch.tensor(labels).clone().detach().to(device)\n",
    "\n",
    "              outputs = model(inputs)\n",
    "              preds.extend(outputs)\n",
    "              loss = model.criterion(outputs, labels)\n",
    "              test_loss += loss * len(inputs) / len(test_dataloader.dataset)\n",
    "\n",
    "              testing_bar.set_postfix(test_loss=\"{:.04f}\".format(test_loss))\n",
    "              testing_bar.update()\n",
    "      testing_bar.close()\n",
    "\n",
    "      print('Finish testing!')\n",
    "\n",
    "      return preds"
   ]
  },
  {
   "cell_type": "markdown",
   "metadata": {},
   "source": [
    "### Training"
   ]
  },
  {
   "cell_type": "code",
   "execution_count": null,
   "metadata": {},
   "outputs": [],
   "source": [
    "configs = {\n",
    "    'batch_size': 64,\n",
    "    'lr': 10e-5\n",
    "}"
   ]
  },
  {
   "cell_type": "code",
   "execution_count": null,
   "metadata": {},
   "outputs": [],
   "source": [
    "train_dataset = GFPDataset(root_path=data_path, part='train', input_name='primary', label_name='log_fluorescence')\n",
    "val_dataset= GFPDataset(root_path=data_path, part='val', input_name='primary', label_name='log_fluorescence')\n",
    "test_dataset = GFPDataset(root_path=data_path, part='test', input_name='primary', label_name='log_fluorescence')"
   ]
  },
  {
   "cell_type": "code",
   "execution_count": null,
   "metadata": {},
   "outputs": [],
   "source": [
    "train_dataloader = DataLoader(train_dataset, batch_size=configs['batch_size'], shuffle=True)\n",
    "val_dataloader = DataLoader(val_dataset, batch_size=configs['batch_size'], shuffle=False)\n",
    "test_dataloader = DataLoader(test_dataset, batch_size=configs['batch_size'], shuffle=False)"
   ]
  },
  {
   "cell_type": "code",
   "execution_count": null,
   "metadata": {},
   "outputs": [],
   "source": [
    "device = torch.device('cuda') if torch.cuda.is_available() else torch.device('cpu')\n",
    "device"
   ]
  },
  {
   "cell_type": "code",
   "execution_count": null,
   "metadata": {},
   "outputs": [],
   "source": [
    "save_folder = '/content/drive/MyDrive/CMU/Project/Ckpt'"
   ]
  },
  {
   "cell_type": "code",
   "execution_count": null,
   "metadata": {},
   "outputs": [],
   "source": [
    "GFPModel = GFPRegressor(device=device)\n",
    "optimizer = torch.optim.AdamW(GFPModel.parameters(), lr=10e-5)"
   ]
  },
  {
   "cell_type": "markdown",
   "metadata": {},
   "source": [
    "### Test the model"
   ]
  },
  {
   "cell_type": "markdown",
   "metadata": {},
   "source": [
    "test_pred = test(GFPModel, test_dataloader, optimizer, device=device)"
   ]
  },
  {
   "cell_type": "code",
   "execution_count": null,
   "metadata": {},
   "outputs": [],
   "source": [
    "preds = np.array([x.cpu() for x in test_pred])\n",
    "sorts = np.argsort(preds)\n",
    "preds = preds[sorts]"
   ]
  },
  {
   "cell_type": "code",
   "execution_count": null,
   "metadata": {},
   "outputs": [],
   "source": [
    "labels = test_dataset.label[sorts]"
   ]
  },
  {
   "cell_type": "code",
   "execution_count": null,
   "metadata": {},
   "outputs": [],
   "source": [
    "plt.scatter(labels, preds)\n",
    "plt.plot(labels, labels, color='r', alpha=0.8)\n",
    "plt.xlabel('True labels')\n",
    "plt.ylabel('Predictions')\n",
    "plt.title('Model2 after 10 epochs with batch norm')"
   ]
  },
  {
   "cell_type": "markdown",
   "metadata": {},
   "source": [
    "## 3- MIMO Model"
   ]
  },
  {
   "cell_type": "markdown",
   "metadata": {},
   "source": [
    "### Inspect the Data"
   ]
  },
  {
   "cell_type": "code",
   "execution_count": null,
   "metadata": {},
   "outputs": [],
   "source": [
    "train_df, val_df, test_df = get_gfp_dfs(data_path)"
   ]
  },
  {
   "cell_type": "code",
   "execution_count": null,
   "metadata": {},
   "outputs": [],
   "source": [
    "print(train_df.shape)\n",
    "print(val_df.shape)\n",
    "print(test_df.shape)"
   ]
  },
  {
   "cell_type": "code",
   "execution_count": null,
   "metadata": {},
   "outputs": [],
   "source": [
    "train_df_1 = train_df[train_df.num_mutations==1].reset_index(drop=True)\n",
    "train_df_1.shape"
   ]
  },
  {
   "cell_type": "code",
   "execution_count": null,
   "metadata": {},
   "outputs": [],
   "source": [
    "train_df_2 = train_df[train_df.num_mutations==2]\n",
    "train_df_2.shape"
   ]
  },
  {
   "cell_type": "code",
   "execution_count": null,
   "metadata": {},
   "outputs": [],
   "source": [
    "train_df_3 = train_df[train_df.num_mutations==3].reset_index(drop=True)\n",
    "train_df_3.shape"
   ]
  },
  {
   "cell_type": "code",
   "execution_count": null,
   "metadata": {},
   "outputs": [],
   "source": [
    "val_df_1 = val_df[val_df.num_mutations==1].reset_index(drop=True)\n",
    "val_df_1.shape"
   ]
  },
  {
   "cell_type": "code",
   "execution_count": null,
   "metadata": {},
   "outputs": [],
   "source": [
    "val_df_2 = val_df[val_df.num_mutations==2].reset_index(drop=True)\n",
    "val_df_2.shape"
   ]
  },
  {
   "cell_type": "code",
   "execution_count": null,
   "metadata": {},
   "outputs": [],
   "source": [
    "val_df_3 = val_df[val_df.num_mutations==3].reset_index(drop=True)\n",
    "val_df_3.shape"
   ]
  },
  {
   "cell_type": "code",
   "execution_count": null,
   "metadata": {},
   "outputs": [],
   "source": [
    "device = torch.device('cuda' if torch.cuda.is_available() else 'cpu')"
   ]
  },
  {
   "cell_type": "markdown",
   "metadata": {},
   "source": [
    "### Get tokenizer and ENcoder from ESM"
   ]
  },
  {
   "cell_type": "code",
   "execution_count": null,
   "metadata": {},
   "outputs": [],
   "source": [
    "esm_tokenizer = AutoTokenizer.from_pretrained(\"facebook/esm2_t6_8M_UR50D\")\n",
    "esm_encoder = EsmModel.from_pretrained(\"facebook/esm2_t6_8M_UR50D\").to(device)"
   ]
  },
  {
   "cell_type": "markdown",
   "metadata": {},
   "source": [
    "### Define Multi-Input Dataset Dataloaders"
   ]
  },
  {
   "cell_type": "code",
   "execution_count": null,
   "metadata": {},
   "outputs": [],
   "source": [
    "import torch\n",
    "from torch.utils.data import Dataset,DataLoader\n",
    "\n",
    "class MultiInputDataset(Dataset):\n",
    "    def __init__(self, df_1, tokenizer,encoder,device,df_2=None, df_3=None,test=False):\n",
    "        if test == False:\n",
    "            self.input_1 = df_1.primary\n",
    "            self.input_2 = df_2.primary\n",
    "            self.input_3 = df_3.primary\n",
    "            self.output_1 = df_1.log_fluorescence\n",
    "            self.output_2 = df_2.log_fluorescence\n",
    "            self.output_3 = df_2.log_fluorescence\n",
    "            self.tokenizer = tokenizer\n",
    "            self.encoder = encoder\n",
    "            self.device = device\n",
    "            assert len(df_1) == len(df_2) == len(df_3)\n",
    "        else:\n",
    "            self.input_1 = df_1.primary\n",
    "            self.output_1 = df_1.log_fluorescence\n",
    "        self.tokenizer = tokenizer\n",
    "        self.encoder = encoder\n",
    "        self.device = device\n",
    "        self.test = test\n",
    "\n",
    "\n",
    "    def __len__(self):\n",
    "        return len(self.input_1)\n",
    "\n",
    "    def __getitem__(self, idx):\n",
    "        if self.test == False:\n",
    "            inputs = self.tokenizer([self.input_1[idx],self.input_2[idx],self.input_3[idx]], truncation= True, padding= True, return_tensors=\"pt\")\n",
    "            inputs = {key: val.to(self.device) for key, val in inputs.items()}\n",
    "            with torch.no_grad():\n",
    "                    embedding = self.encoder(**inputs)\n",
    "            pooled_embedding = embedding.last_hidden_state.mean(dim=1)\n",
    "            # cat_input = [self.input_1[idx],self.input_2[idx],self.input_3[idx]]\n",
    "            output_1 = torch.tensor(self.output_1[idx], dtype=torch.float32)\n",
    "            output_2 = torch.tensor(self.output_2[idx], dtype=torch.float32)\n",
    "            output_3 = torch.tensor(self.output_3[idx], dtype=torch.float32)\n",
    "            cat_output = torch.cat((output_1.unsqueeze(0), output_2.unsqueeze(0), output_3.unsqueeze(0)), dim=0)\n",
    "        else:\n",
    "            inputs = self.tokenizer(self.input_1[idx], truncation= True, padding= True, return_tensors=\"pt\")\n",
    "            inputs = {key: val.to(self.device) for key, val in inputs.items()}\n",
    "            with torch.no_grad():\n",
    "                    embedding = self.encoder(**inputs)\n",
    "            pooled_embedding = embedding.last_hidden_state.mean(dim=1).repeat(3, 1)\n",
    "            cat_output = torch.tensor(self.output_1[idx], dtype=torch.float32)\n",
    "        return pooled_embedding,cat_output"
   ]
  },
  {
   "cell_type": "markdown",
   "metadata": {},
   "source": [
    "### MIMO Model Architecture"
   ]
  },
  {
   "cell_type": "code",
   "execution_count": null,
   "metadata": {},
   "outputs": [],
   "source": [
    "class MultiInputMultiOutputModel(nn.Module):\n",
    "    def __init__(self,architecture, data_dim, ens_size=3, activation='relu'):\n",
    "        super(MultiInputMultiOutputModel, self).__init__()\n",
    "\n",
    "        # Calculate input and output sizes based on ensemble size\n",
    "        num_logits = 1  # Assuming this is a regression problem\n",
    "\n",
    "        # Define input layer\n",
    "        self.input_1 = nn.Linear(data_dim, architecture[0])\n",
    "        self.input_2 = nn.Linear(data_dim, architecture[0])\n",
    "        self.input_3 = nn.Linear(data_dim, architecture[0])\n",
    "\n",
    "        # self.batchnorm = nn.BatchNorm1d(architecture[0])\n",
    "        # # Define hidden layers\n",
    "        self.hidden_layers = nn.ModuleList([\n",
    "            nn.Linear(architecture[i], architecture[i+1])\n",
    "            for i in range(len(architecture)-1)\n",
    "        ])\n",
    "\n",
    "\n",
    "        # Define output layer\n",
    "        self.output_1 = nn.Linear(architecture[-1], num_logits)\n",
    "        self.output_2 = nn.Linear(architecture[-1], num_logits)\n",
    "        self.output_3 = nn.Linear(architecture[-1], num_logits)\n",
    "        # architecture[-1]\n",
    "        # Activation function\n",
    "        self.activation = nn.ReLU() if activation == 'relu' else nn.Sigmoid()\n",
    "\n",
    "    def forward(self, x):\n",
    "        # Flatten the input if needed\n",
    "        # x = x.view(x.size(0), -1)\n",
    "\n",
    "        # Input layer\n",
    "        batch_size = x.shape[0]\n",
    "        data_dim = x.shape[1]\n",
    "\n",
    "        x_1 = self.input_1(x[:, 0, :] )\n",
    "        x_2 = self.input_1(x[:, 1, :])\n",
    "        x_3 = self.input_1(x[:, 2, :])\n",
    "\n",
    "        x = torch.cat((x_1, x_2, x_3), dim=0)\n",
    "        # Hidden layers\n",
    "        for layer in self.hidden_layers:\n",
    "            x = layer(x)\n",
    "            x = self.activation(x)\n",
    "\n",
    "        # Output layer\n",
    "        output_1 = self.output_1(x[:batch_size,:])\n",
    "        output_2 = self.output_2(x[batch_size:batch_size*2,:])\n",
    "        output_3 = self.output_3(x[batch_size*2:,:])\n",
    "\n",
    "\n",
    "        return torch.cat((output_1, output_2, output_3), dim=1)"
   ]
  },
  {
   "cell_type": "code",
   "execution_count": null,
   "metadata": {},
   "outputs": [],
   "source": [
    "model = MultiInputMultiOutputModel(architecture=[8,3], data_dim=320, ens_size=3, activation='relu').to(device)"
   ]
  },
  {
   "cell_type": "code",
   "execution_count": null,
   "metadata": {},
   "outputs": [],
   "source": [
    "model"
   ]
  },
  {
   "cell_type": "code",
   "execution_count": null,
   "metadata": {},
   "outputs": [],
   "source": [
    "model.load_state_dict(torch.load('best_model_0.pth'))"
   ]
  },
  {
   "cell_type": "code",
   "execution_count": null,
   "metadata": {},
   "outputs": [],
   "source": [
    "from torch.utils.tensorboard import SummaryWriter"
   ]
  },
  {
   "cell_type": "markdown",
   "metadata": {},
   "source": [
    "### Train and Validate model"
   ]
  },
  {
   "cell_type": "code",
   "execution_count": null,
   "metadata": {},
   "outputs": [],
   "source": [
    "num_epochs = 10\n",
    "learning_rate = 0.0001\n",
    "\n",
    "# Define loss function and optimizer\n",
    "criterion = nn.MSELoss()\n",
    "optimizer = Adam(model.parameters(), lr=learning_rate)\n",
    "scheduler = StepLR(optimizer, step_size=3, gamma=0.1)\n",
    "\n",
    "# Optional: TensorBoard for visualization\n",
    "# writer = SummaryWriter()  # Uncomment this line to enable TensorBoard\n",
    "training_losses = []\n",
    "valid_losses = []\n",
    "best_valid_loss = np.inf\n",
    "\n",
    "# Training loop\n",
    "for epoch in range(num_epochs):\n",
    "    # Training\n",
    "    model.train()  # Set model to training mode\n",
    "    total_loss = 0.0\n",
    "\n",
    "    n_batch = 10\n",
    "    random_train_2 = train_df_2.sample(n=877*n_batch,random_state=epoch)\n",
    "    random_train_3 = train_df_3.sample(n=877*n_batch,random_state=epoch)\n",
    "\n",
    "    for b in range(n_batch):\n",
    "        random_batch_2 = random_train_2[877*b:877*(b+1)].reset_index(drop=True)\n",
    "        random_batch_3 = random_train_3[877*b:877*(b+1)].reset_index(drop=True)\n",
    "        train_dataset = MultiInputDataset(df_1 = train_df_1, df_2 = random_batch_2, df_3 = random_batch_3, tokenizer = esm_tokenizer, encoder = esm_encoder, device = device)\n",
    "        train_loader = DataLoader(train_dataset, batch_size=32)\n",
    "\n",
    "        for inputs, targets in train_loader:\n",
    "            # Forward pass\n",
    "            outputs = model(inputs)\n",
    "\n",
    "            # Compute loss\n",
    "            # print(outputs)\n",
    "            loss = criterion(outputs, targets.to(device))\n",
    "\n",
    "            # Backpropagation and optimization\n",
    "            optimizer.zero_grad()\n",
    "            loss.backward()\n",
    "            optimizer.step()\n",
    "\n",
    "            total_loss += loss.item()\n",
    "\n",
    "\n",
    "    # Calculate average training loss for the epoch\n",
    "    average_train_loss = total_loss / (len(train_loader)*n_batch)\n",
    "    training_losses.append(average_train_loss)\n",
    "    # Print training loss for the epoch\n",
    "    # print(f\"Epoch [{epoch + 1}/{num_epochs}], Train Loss: {average_train_loss:.4f}\")\n",
    "\n",
    "    # Optional: Log training loss to TensorBoard\n",
    "    # writer.add_scalar(\"Training Loss\", average_train_loss, epoch)\n",
    "\n",
    "    # Evaluation on test set\n",
    "    model.eval()  # Set model to evaluation mode\n",
    "    with torch.no_grad():\n",
    "        total_valid_loss = 0.0\n",
    "        num_samples = 0\n",
    "\n",
    "        n_batch = 3\n",
    "        random_val_2 = val_df_2.sample(n=237*n_batch,random_state=epoch)\n",
    "        random_val_3 = val_df_3.sample(n=237*n_batch,random_state=epoch)\n",
    "\n",
    "        for b in range(n_batch):\n",
    "            random_batch_2 = random_val_2[237*b:237*(b+1)].reset_index(drop=True)\n",
    "            random_batch_3 = random_val_3[237*b:237*(b+1)].reset_index(drop=True)\n",
    "            val_dataset = MultiInputDataset(df_1 = val_df_1, df_2 = random_batch_2, df_3 = random_batch_3, tokenizer = esm_tokenizer, encoder = esm_encoder, device = device)\n",
    "            val_loader = DataLoader(val_dataset, batch_size=32)\n",
    "\n",
    "            for inputs, targets in val_loader:\n",
    "                # Forward pass\n",
    "                outputs = model(inputs)\n",
    "\n",
    "                # Compute loss\n",
    "                # print(outputs)\n",
    "                valid_loss = criterion(outputs, targets.to(device))\n",
    "\n",
    "                # Accumulate total test loss\n",
    "                total_valid_loss += valid_loss.item()\n",
    "                num_samples += inputs.size(0)\n",
    "\n",
    "\n",
    "        # Calculate average test loss\n",
    "        average_valid_loss = total_valid_loss / (len(val_loader)*n_batch)\n",
    "        valid_losses.append(average_valid_loss)\n",
    "\n",
    "        if average_valid_loss < best_valid_loss:\n",
    "            best_valid_loss = average_valid_loss\n",
    "            torch.save(model.state_dict(), 'best_model.pth')  # Save model\n",
    "\n",
    "        # Print test loss for the epoch\n",
    "        print(f\"Epoch [{epoch + 1}/{num_epochs}], Train Loss: {average_train_loss:.4f}, Valid Loss: {average_valid_loss:.4f}\")\n",
    "        scheduler.step()"
   ]
  },
  {
   "cell_type": "code",
   "execution_count": null,
   "metadata": {},
   "outputs": [],
   "source": [
    "import matplotlib.pyplot as plt\n",
    "\n",
    "epochs = list(range(1, len(training_losses) + 1))\n",
    "\n",
    "# plot training and validation losses\n",
    "plt.figure(figsize=(10, 6))\n",
    "plt.plot(epochs, training_losses, label='Training Loss', marker='o')\n",
    "plt.plot(epochs, valid_losses, label='Validation Loss', marker='s')\n",
    "plt.title('Training and Validation Losses over Epochs')\n",
    "plt.xlabel('Epoch')\n",
    "plt.ylabel('Loss')\n",
    "plt.grid(True)\n",
    "plt.legend()\n",
    "plt.show()"
   ]
  },
  {
   "cell_type": "markdown",
   "metadata": {},
   "source": [
    "### Evaluate Model - test data"
   ]
  },
  {
   "cell_type": "code",
   "execution_count": null,
   "metadata": {},
   "outputs": [],
   "source": [
    "test_dataset = MultiInputDataset(df_1 = test_df, tokenizer = esm_tokenizer, encoder = esm_encoder, device = device, test=True)\n",
    "\n",
    "test_loader = DataLoader(test_dataset, batch_size=32)"
   ]
  },
  {
   "cell_type": "code",
   "execution_count": null,
   "metadata": {},
   "outputs": [],
   "source": [
    "new_model = MultiInputMultiOutputModel(architecture=[8,3], data_dim=320, ens_size=3, activation='relu').to(device)\n",
    "new_model.load_state_dict(torch.load('best_model.pth'))\n",
    "new_model.eval()  # Set model to evaluation mode\n",
    "with torch.no_grad():\n",
    "    total_test_loss = 0.0\n",
    "    num_samples = 0\n",
    "\n",
    "    for inputs, targets in test_loader:\n",
    "        # Forward pass\n",
    "        outputs = model(inputs)\n",
    "        outputs = torch.mean(outputs, dim=1)\n",
    "        # Compute loss\n",
    "        # print(outputs)\n",
    "        test_loss = criterion(outputs, targets.to(device))\n",
    "\n",
    "        # Accumulate total test loss\n",
    "        total_test_loss += test_loss.item()\n",
    "        num_samples += inputs.size(0)\n",
    "\n",
    "    # Calculate average test loss\n",
    "    average_test_loss = total_test_loss / len(test_loader)\n",
    "\n",
    "    # Print test loss for the epoch\n",
    "    print(f\"Test Loss: {average_test_loss:.4f}\")"
   ]
  },
  {
   "cell_type": "code",
   "execution_count": null,
   "metadata": {},
   "outputs": [],
   "source": [
    "# num_epochs = 10\n",
    "# learning_rate = 0.0001\n",
    "\n",
    "# Define loss function and optimizer\n",
    "criterion = nn.MSELoss()\n",
    "optimizer = Adam(model.parameters(), lr=learning_rate)\n",
    "scheduler = StepLR(optimizer, step_size=3, gamma=0.1)\n",
    "\n",
    "# Optional: TensorBoard for visualization\n",
    "# writer = SummaryWriter()  # Uncomment this line to enable TensorBoard\n",
    "# training_losses = []\n",
    "# valid_losses = []\n",
    "# best_valid_loss = np.inf\n",
    "\n",
    "# Training loop\n",
    "for epoch in range(num_epochs,num_epochs*2):\n",
    "    # Training\n",
    "    model.train()  # Set model to training mode\n",
    "    total_loss = 0.0\n",
    "\n",
    "    n_batch = 10\n",
    "    random_train_2 = train_df_2.sample(n=877*n_batch,random_state=epoch)\n",
    "    random_train_3 = train_df_3.sample(n=877*n_batch,random_state=epoch)\n",
    "\n",
    "    for b in range(n_batch):\n",
    "        random_batch_2 = random_train_2[877*b:877*(b+1)].reset_index(drop=True)\n",
    "        random_batch_3 = random_train_3[877*b:877*(b+1)].reset_index(drop=True)\n",
    "        train_dataset = MultiInputDataset(df_1 = train_df_1, df_2 = random_batch_2, df_3 = random_batch_3, tokenizer = esm_tokenizer, encoder = esm_encoder, device = device)\n",
    "        train_loader = DataLoader(train_dataset, batch_size=32)\n",
    "\n",
    "        for inputs, targets in train_loader:\n",
    "            # Forward pass\n",
    "            outputs = model(inputs)\n",
    "\n",
    "            # Compute loss\n",
    "            # print(outputs)\n",
    "            loss = criterion(outputs, targets.to(device))\n",
    "\n",
    "            # Backpropagation and optimization\n",
    "            optimizer.zero_grad()\n",
    "            loss.backward()\n",
    "            optimizer.step()\n",
    "\n",
    "            total_loss += loss.item()\n",
    "\n",
    "\n",
    "    # Calculate average training loss for the epoch\n",
    "    average_train_loss = total_loss / (len(train_loader)*n_batch)\n",
    "    training_losses.append(average_train_loss)\n",
    "    # Print training loss for the epoch\n",
    "    # print(f\"Epoch [{epoch + 1}/{num_epochs}], Train Loss: {average_train_loss:.4f}\")\n",
    "\n",
    "    # Optional: Log training loss to TensorBoard\n",
    "    # writer.add_scalar(\"Training Loss\", average_train_loss, epoch)\n",
    "\n",
    "    # Evaluation on test set\n",
    "    model.eval()  # Set model to evaluation mode\n",
    "    with torch.no_grad():\n",
    "        total_valid_loss = 0.0\n",
    "        num_samples = 0\n",
    "\n",
    "        n_batch = 3\n",
    "        random_val_2 = val_df_2.sample(n=237*n_batch,random_state=epoch)\n",
    "        random_val_3 = val_df_3.sample(n=237*n_batch,random_state=epoch)\n",
    "\n",
    "        for b in range(n_batch):\n",
    "            random_batch_2 = random_val_2[237*b:237*(b+1)].reset_index(drop=True)\n",
    "            random_batch_3 = random_val_3[237*b:237*(b+1)].reset_index(drop=True)\n",
    "            val_dataset = MultiInputDataset(df_1 = val_df_1, df_2 = random_batch_2, df_3 = random_batch_3, tokenizer = esm_tokenizer, encoder = esm_encoder, device = device)\n",
    "            val_loader = DataLoader(val_dataset, batch_size=32)\n",
    "\n",
    "            for inputs, targets in val_loader:\n",
    "                # Forward pass\n",
    "                outputs = model(inputs)\n",
    "\n",
    "                # Compute loss\n",
    "                # print(outputs)\n",
    "                valid_loss = criterion(outputs, targets.to(device))\n",
    "\n",
    "                # Accumulate total test loss\n",
    "                total_valid_loss += valid_loss.item()\n",
    "                num_samples += inputs.size(0)\n",
    "\n",
    "\n",
    "        # Calculate average test loss\n",
    "        average_valid_loss = total_valid_loss / (len(val_loader)*n_batch)\n",
    "        valid_losses.append(average_valid_loss)\n",
    "\n",
    "        if average_valid_loss < best_valid_loss:\n",
    "            best_valid_loss = average_valid_loss\n",
    "            torch.save(model.state_dict(), 'best_model.pth')  # Save model\n",
    "\n",
    "        # Print test loss for the epoch\n",
    "        print(f\"Epoch [{epoch + 1}/{num_epochs*2}], Train Loss: {average_train_loss:.4f}, Valid Loss: {average_valid_loss:.4f}\")\n",
    "        scheduler.step()"
   ]
  },
  {
   "cell_type": "code",
   "execution_count": null,
   "metadata": {},
   "outputs": [],
   "source": [
    "new_model = MultiInputMultiOutputModel(architecture=[8,3], data_dim=320, ens_size=3, activation='relu').to(device)\n",
    "new_model.load_state_dict(torch.load('best_model.pth'))\n",
    "new_model.eval()  # Set model to evaluation mode\n",
    "# model.eval()  # Set model to evaluation mode\n",
    "with torch.no_grad():\n",
    "    total_test_loss = 0.0\n",
    "    num_samples = 0\n",
    "\n",
    "    for inputs, targets in test_loader:\n",
    "        # Forward pass\n",
    "        outputs = new_model(inputs)\n",
    "        outputs = torch.mean(outputs, dim=1)\n",
    "        # Compute loss\n",
    "        # print(outputs)\n",
    "        test_loss = criterion(outputs, targets.to(device))\n",
    "\n",
    "        # Accumulate total test loss\n",
    "        total_test_loss += test_loss.item()\n",
    "        num_samples += inputs.size(0)\n",
    "\n",
    "    # Calculate average test loss\n",
    "    average_test_loss = total_test_loss / len(test_loader)\n",
    "\n",
    "    # Print test loss for the epoch\n",
    "    print(f\"Test Loss: {average_test_loss:.4f}\")"
   ]
  }
 ],
 "metadata": {
  "kernelspec": {
   "display_name": "Python 3",
   "language": "python",
   "name": "python3"
  },
  "language_info": {
   "name": "python",
   "version": "3.11.2"
  }
 },
 "nbformat": 4,
 "nbformat_minor": 2
}
